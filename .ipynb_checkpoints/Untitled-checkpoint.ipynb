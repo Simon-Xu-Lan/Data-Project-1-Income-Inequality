{
 "cells": [
  {
   "cell_type": "code",
   "execution_count": 10,
   "metadata": {},
   "outputs": [
    {
     "data": {
      "text/html": [
       "<div>\n",
       "<style scoped>\n",
       "    .dataframe tbody tr th:only-of-type {\n",
       "        vertical-align: middle;\n",
       "    }\n",
       "\n",
       "    .dataframe tbody tr th {\n",
       "        vertical-align: top;\n",
       "    }\n",
       "\n",
       "    .dataframe thead th {\n",
       "        text-align: right;\n",
       "    }\n",
       "</style>\n",
       "<table border=\"1\" class=\"dataframe\">\n",
       "  <thead>\n",
       "    <tr style=\"text-align: right;\">\n",
       "      <th></th>\n",
       "      <th>LOCATION</th>\n",
       "      <th>SUBJECT</th>\n",
       "      <th>MEASURE</th>\n",
       "      <th>FREQUENCY</th>\n",
       "      <th>TIME</th>\n",
       "      <th>Value</th>\n",
       "      <th>Flag Codes</th>\n",
       "    </tr>\n",
       "    <tr>\n",
       "      <th>INDICATOR</th>\n",
       "      <th></th>\n",
       "      <th></th>\n",
       "      <th></th>\n",
       "      <th></th>\n",
       "      <th></th>\n",
       "      <th></th>\n",
       "      <th></th>\n",
       "    </tr>\n",
       "  </thead>\n",
       "  <tbody>\n",
       "    <tr>\n",
       "      <th>WKGPOP</th>\n",
       "      <td>AUS</td>\n",
       "      <td>TOT</td>\n",
       "      <td>PC_POP</td>\n",
       "      <td>A</td>\n",
       "      <td>2009</td>\n",
       "      <td>67.505</td>\n",
       "      <td>NaN</td>\n",
       "    </tr>\n",
       "    <tr>\n",
       "      <th>WKGPOP</th>\n",
       "      <td>AUS</td>\n",
       "      <td>TOT</td>\n",
       "      <td>PC_POP</td>\n",
       "      <td>A</td>\n",
       "      <td>2010</td>\n",
       "      <td>67.386</td>\n",
       "      <td>NaN</td>\n",
       "    </tr>\n",
       "    <tr>\n",
       "      <th>WKGPOP</th>\n",
       "      <td>AUS</td>\n",
       "      <td>TOT</td>\n",
       "      <td>PC_POP</td>\n",
       "      <td>A</td>\n",
       "      <td>2011</td>\n",
       "      <td>67.226</td>\n",
       "      <td>NaN</td>\n",
       "    </tr>\n",
       "    <tr>\n",
       "      <th>WKGPOP</th>\n",
       "      <td>AUS</td>\n",
       "      <td>TOT</td>\n",
       "      <td>PC_POP</td>\n",
       "      <td>A</td>\n",
       "      <td>2012</td>\n",
       "      <td>66.930</td>\n",
       "      <td>NaN</td>\n",
       "    </tr>\n",
       "    <tr>\n",
       "      <th>WKGPOP</th>\n",
       "      <td>AUS</td>\n",
       "      <td>TOT</td>\n",
       "      <td>PC_POP</td>\n",
       "      <td>A</td>\n",
       "      <td>2013</td>\n",
       "      <td>66.671</td>\n",
       "      <td>NaN</td>\n",
       "    </tr>\n",
       "  </tbody>\n",
       "</table>\n",
       "</div>"
      ],
      "text/plain": [
       "          LOCATION SUBJECT MEASURE FREQUENCY  TIME   Value  Flag Codes\n",
       "INDICATOR                                                             \n",
       "WKGPOP         AUS     TOT  PC_POP         A  2009  67.505         NaN\n",
       "WKGPOP         AUS     TOT  PC_POP         A  2010  67.386         NaN\n",
       "WKGPOP         AUS     TOT  PC_POP         A  2011  67.226         NaN\n",
       "WKGPOP         AUS     TOT  PC_POP         A  2012  66.930         NaN\n",
       "WKGPOP         AUS     TOT  PC_POP         A  2013  66.671         NaN"
      ]
     },
     "execution_count": 10,
     "metadata": {},
     "output_type": "execute_result"
    }
   ],
   "source": [
    "import pandas as pd\n",
    "import matplotlib.pyplot as plt\n",
    "import scipy.stats as st\n",
    "\n",
    "\n",
    "# Import .csv\n",
    "file = 'Resources/Working_Population_Pct.csv'\n",
    "df = pd.read_csv(file, index_col=1)\n",
    "df.head()"
   ]
  },
  {
   "cell_type": "code",
   "execution_count": 12,
   "metadata": {},
   "outputs": [
    {
     "name": "stderr",
     "output_type": "stream",
     "text": [
      "C:\\Users\\Elizabeth Conway\\anaconda3\\lib\\site-packages\\pandas\\core\\frame.py:4296: SettingWithCopyWarning: \n",
      "A value is trying to be set on a copy of a slice from a DataFrame\n",
      "\n",
      "See the caveats in the documentation: https://pandas.pydata.org/pandas-docs/stable/user_guide/indexing.html#returning-a-view-versus-a-copy\n",
      "  return super().rename(\n"
     ]
    },
    {
     "data": {
      "text/html": [
       "<div>\n",
       "<style scoped>\n",
       "    .dataframe tbody tr th:only-of-type {\n",
       "        vertical-align: middle;\n",
       "    }\n",
       "\n",
       "    .dataframe tbody tr th {\n",
       "        vertical-align: top;\n",
       "    }\n",
       "\n",
       "    .dataframe thead th {\n",
       "        text-align: right;\n",
       "    }\n",
       "</style>\n",
       "<table border=\"1\" class=\"dataframe\">\n",
       "  <thead>\n",
       "    <tr style=\"text-align: right;\">\n",
       "      <th></th>\n",
       "      <th>Country</th>\n",
       "      <th>Year</th>\n",
       "      <th>Value</th>\n",
       "    </tr>\n",
       "    <tr>\n",
       "      <th>INDICATOR</th>\n",
       "      <th></th>\n",
       "      <th></th>\n",
       "      <th></th>\n",
       "    </tr>\n",
       "  </thead>\n",
       "  <tbody>\n",
       "    <tr>\n",
       "      <th>WKGPOP</th>\n",
       "      <td>AUS</td>\n",
       "      <td>2009</td>\n",
       "      <td>67.505</td>\n",
       "    </tr>\n",
       "    <tr>\n",
       "      <th>WKGPOP</th>\n",
       "      <td>AUS</td>\n",
       "      <td>2010</td>\n",
       "      <td>67.386</td>\n",
       "    </tr>\n",
       "    <tr>\n",
       "      <th>WKGPOP</th>\n",
       "      <td>AUS</td>\n",
       "      <td>2011</td>\n",
       "      <td>67.226</td>\n",
       "    </tr>\n",
       "    <tr>\n",
       "      <th>WKGPOP</th>\n",
       "      <td>AUS</td>\n",
       "      <td>2012</td>\n",
       "      <td>66.930</td>\n",
       "    </tr>\n",
       "    <tr>\n",
       "      <th>WKGPOP</th>\n",
       "      <td>AUS</td>\n",
       "      <td>2013</td>\n",
       "      <td>66.671</td>\n",
       "    </tr>\n",
       "  </tbody>\n",
       "</table>\n",
       "</div>"
      ],
      "text/plain": [
       "          Country  Year   Value\n",
       "INDICATOR                      \n",
       "WKGPOP        AUS  2009  67.505\n",
       "WKGPOP        AUS  2010  67.386\n",
       "WKGPOP        AUS  2011  67.226\n",
       "WKGPOP        AUS  2012  66.930\n",
       "WKGPOP        AUS  2013  66.671"
      ]
     },
     "execution_count": 12,
     "metadata": {},
     "output_type": "execute_result"
    }
   ],
   "source": [
    "working_df=df[['LOCATION', 'TIME', 'Value']]\n",
    "#working_df.head()\n",
    "working_df.rename(columns={'LOCATION': 'Country', 'TIME': 'Year'}, inplace=True)\n",
    "working_df.head()\n",
    "\n"
   ]
  },
  {
   "cell_type": "code",
   "execution_count": 7,
   "metadata": {},
   "outputs": [
    {
     "data": {
      "text/plain": [
       "<AxesSubplot:xlabel='Value', ylabel='TIME'>"
      ]
     },
     "execution_count": 7,
     "metadata": {},
     "output_type": "execute_result"
    },
    {
     "data": {
      "image/png": "[encoded data removed]",
      "text/plain": [
       "<Figure size 432x288 with 1 Axes>"
      ]
     },
     "metadata": {
      "needs_background": "light"
     },
     "output_type": "display_data"
    }
   ],
   "source": []
  },
  {
   "cell_type": "code",
   "execution_count": 4,
   "metadata": {},
   "outputs": [],
   "source": [
    "west = ['United Kingdom', 'Spain', 'Austria', 'France', 'Germany', 'Ireland', 'Switzerland', 'Italy', 'Luxembourg', 'Greece', 'Israel'\n",
    "                 'Netherlands', 'Belgium', 'Australia', 'New Zealand', 'Portugal', 'Turkey', 'Canada']\n",
    "east =  ['Estonia', 'Czech Republic', 'Latvia', 'Lithuania', 'Hungary', 'Slovak Republic', 'Slovenia', 'Poland'] \n",
    "scandinavian = ['Norway', 'Finland' ,'Iceland', 'Sweden', 'Denmark']\n",
    "us = ['United States']\n",
    "asia = ['Korea', 'Japan']\n",
    "latin = ['Mexico', 'Chile']"
   ]
  },
  {
   "cell_type": "code",
   "execution_count": 5,
   "metadata": {},
   "outputs": [],
   "source": [
    "west_df = pd.DataFrame({\"Country\": west})\n",
    "east_df = pd.DataFrame({\"Country\": east})\n",
    "scand_df = pd.DataFrame({\"Country\": scandinavian})\n",
    "us_df = pd.DataFrame({\"Country\": us})\n",
    "asia_df = pd.DataFrame({\"Country\": asia})\n",
    "latin_df = pd.DataFrame({\"Country\": latin})"
   ]
  },
  {
   "cell_type": "code",
   "execution_count": null,
   "metadata": {},
   "outputs": [],
   "source": []
  }
 ],
 "metadata": {
  "kernelspec": {
   "display_name": "Python 3",
   "language": "python",
   "name": "python3"
  },
  "language_info": {
   "codemirror_mode": {
    "name": "ipython",
    "version": 3
   },
   "file_extension": ".py",
   "mimetype": "text/x-python",
   "name": "python",
   "nbconvert_exporter": "python",
   "pygments_lexer": "ipython3",
   "version": "3.8.5"
  }
 },
 "nbformat": 4,
 "nbformat_minor": 4
}
