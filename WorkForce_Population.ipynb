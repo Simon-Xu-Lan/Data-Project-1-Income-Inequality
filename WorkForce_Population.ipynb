{
 "cells": [
  {
   "cell_type": "code",
   "execution_count": 1,
   "metadata": {},
   "outputs": [
    {
     "data": {
      "text/html": [
       "<div>\n",
       "<style scoped>\n",
       "    .dataframe tbody tr th:only-of-type {\n",
       "        vertical-align: middle;\n",
       "    }\n",
       "\n",
       "    .dataframe tbody tr th {\n",
       "        vertical-align: top;\n",
       "    }\n",
       "\n",
       "    .dataframe thead th {\n",
       "        text-align: right;\n",
       "    }\n",
       "</style>\n",
       "<table border=\"1\" class=\"dataframe\">\n",
       "  <thead>\n",
       "    <tr style=\"text-align: right;\">\n",
       "      <th></th>\n",
       "      <th>LOCATION</th>\n",
       "      <th>INDICATOR</th>\n",
       "      <th>SUBJECT</th>\n",
       "      <th>MEASURE</th>\n",
       "      <th>FREQUENCY</th>\n",
       "      <th>TIME</th>\n",
       "      <th>Value</th>\n",
       "      <th>Flag Codes</th>\n",
       "    </tr>\n",
       "  </thead>\n",
       "  <tbody>\n",
       "    <tr>\n",
       "      <th>0</th>\n",
       "      <td>AUS</td>\n",
       "      <td>WKGPOP</td>\n",
       "      <td>TOT</td>\n",
       "      <td>PC_POP</td>\n",
       "      <td>A</td>\n",
       "      <td>2009</td>\n",
       "      <td>67.505</td>\n",
       "      <td>NaN</td>\n",
       "    </tr>\n",
       "    <tr>\n",
       "      <th>1</th>\n",
       "      <td>AUS</td>\n",
       "      <td>WKGPOP</td>\n",
       "      <td>TOT</td>\n",
       "      <td>PC_POP</td>\n",
       "      <td>A</td>\n",
       "      <td>2010</td>\n",
       "      <td>67.386</td>\n",
       "      <td>NaN</td>\n",
       "    </tr>\n",
       "    <tr>\n",
       "      <th>2</th>\n",
       "      <td>AUS</td>\n",
       "      <td>WKGPOP</td>\n",
       "      <td>TOT</td>\n",
       "      <td>PC_POP</td>\n",
       "      <td>A</td>\n",
       "      <td>2011</td>\n",
       "      <td>67.226</td>\n",
       "      <td>NaN</td>\n",
       "    </tr>\n",
       "    <tr>\n",
       "      <th>3</th>\n",
       "      <td>AUS</td>\n",
       "      <td>WKGPOP</td>\n",
       "      <td>TOT</td>\n",
       "      <td>PC_POP</td>\n",
       "      <td>A</td>\n",
       "      <td>2012</td>\n",
       "      <td>66.930</td>\n",
       "      <td>NaN</td>\n",
       "    </tr>\n",
       "    <tr>\n",
       "      <th>4</th>\n",
       "      <td>AUS</td>\n",
       "      <td>WKGPOP</td>\n",
       "      <td>TOT</td>\n",
       "      <td>PC_POP</td>\n",
       "      <td>A</td>\n",
       "      <td>2013</td>\n",
       "      <td>66.671</td>\n",
       "      <td>NaN</td>\n",
       "    </tr>\n",
       "  </tbody>\n",
       "</table>\n",
       "</div>"
      ],
      "text/plain": [
       "  LOCATION INDICATOR SUBJECT MEASURE FREQUENCY  TIME   Value  Flag Codes\n",
       "0      AUS    WKGPOP     TOT  PC_POP         A  2009  67.505         NaN\n",
       "1      AUS    WKGPOP     TOT  PC_POP         A  2010  67.386         NaN\n",
       "2      AUS    WKGPOP     TOT  PC_POP         A  2011  67.226         NaN\n",
       "3      AUS    WKGPOP     TOT  PC_POP         A  2012  66.930         NaN\n",
       "4      AUS    WKGPOP     TOT  PC_POP         A  2013  66.671         NaN"
      ]
     },
     "execution_count": 1,
     "metadata": {},
     "output_type": "execute_result"
    }
   ],
   "source": [
    "import pandas as pd\n",
    "import matplotlib.pyplot as plt\n",
    "import scipy.stats as st\n",
    "#from utility import check_columns\n",
    "\n",
    "\n",
    "# Import .csv\n",
    "file = 'Resources/Working_Population_Pct.csv'\n",
    "file_df = pd.read_csv(file, index_col=False)\n",
    "file_df.head()"
   ]
  },
  {
   "cell_type": "code",
   "execution_count": 2,
   "metadata": {},
   "outputs": [
    {
     "data": {
      "text/html": [
       "<div>\n",
       "<style scoped>\n",
       "    .dataframe tbody tr th:only-of-type {\n",
       "        vertical-align: middle;\n",
       "    }\n",
       "\n",
       "    .dataframe tbody tr th {\n",
       "        vertical-align: top;\n",
       "    }\n",
       "\n",
       "    .dataframe thead th {\n",
       "        text-align: right;\n",
       "    }\n",
       "</style>\n",
       "<table border=\"1\" class=\"dataframe\">\n",
       "  <thead>\n",
       "    <tr style=\"text-align: right;\">\n",
       "      <th></th>\n",
       "      <th>LOCATION</th>\n",
       "      <th>INDICATOR</th>\n",
       "      <th>SUBJECT</th>\n",
       "      <th>MEASURE</th>\n",
       "      <th>FREQUENCY</th>\n",
       "      <th>TIME</th>\n",
       "      <th>Value</th>\n",
       "      <th>Flag Codes</th>\n",
       "    </tr>\n",
       "  </thead>\n",
       "  <tbody>\n",
       "    <tr>\n",
       "      <th>0</th>\n",
       "      <td>Australia</td>\n",
       "      <td>WKGPOP</td>\n",
       "      <td>TOT</td>\n",
       "      <td>PC_POP</td>\n",
       "      <td>A</td>\n",
       "      <td>2009</td>\n",
       "      <td>67.505</td>\n",
       "      <td>NaN</td>\n",
       "    </tr>\n",
       "    <tr>\n",
       "      <th>1</th>\n",
       "      <td>Australia</td>\n",
       "      <td>WKGPOP</td>\n",
       "      <td>TOT</td>\n",
       "      <td>PC_POP</td>\n",
       "      <td>A</td>\n",
       "      <td>2010</td>\n",
       "      <td>67.386</td>\n",
       "      <td>NaN</td>\n",
       "    </tr>\n",
       "    <tr>\n",
       "      <th>2</th>\n",
       "      <td>Australia</td>\n",
       "      <td>WKGPOP</td>\n",
       "      <td>TOT</td>\n",
       "      <td>PC_POP</td>\n",
       "      <td>A</td>\n",
       "      <td>2011</td>\n",
       "      <td>67.226</td>\n",
       "      <td>NaN</td>\n",
       "    </tr>\n",
       "    <tr>\n",
       "      <th>3</th>\n",
       "      <td>Australia</td>\n",
       "      <td>WKGPOP</td>\n",
       "      <td>TOT</td>\n",
       "      <td>PC_POP</td>\n",
       "      <td>A</td>\n",
       "      <td>2012</td>\n",
       "      <td>66.930</td>\n",
       "      <td>NaN</td>\n",
       "    </tr>\n",
       "    <tr>\n",
       "      <th>4</th>\n",
       "      <td>Australia</td>\n",
       "      <td>WKGPOP</td>\n",
       "      <td>TOT</td>\n",
       "      <td>PC_POP</td>\n",
       "      <td>A</td>\n",
       "      <td>2013</td>\n",
       "      <td>66.671</td>\n",
       "      <td>NaN</td>\n",
       "    </tr>\n",
       "  </tbody>\n",
       "</table>\n",
       "</div>"
      ],
      "text/plain": [
       "    LOCATION INDICATOR SUBJECT MEASURE FREQUENCY  TIME   Value  Flag Codes\n",
       "0  Australia    WKGPOP     TOT  PC_POP         A  2009  67.505         NaN\n",
       "1  Australia    WKGPOP     TOT  PC_POP         A  2010  67.386         NaN\n",
       "2  Australia    WKGPOP     TOT  PC_POP         A  2011  67.226         NaN\n",
       "3  Australia    WKGPOP     TOT  PC_POP         A  2012  66.930         NaN\n",
       "4  Australia    WKGPOP     TOT  PC_POP         A  2013  66.671         NaN"
      ]
     },
     "execution_count": 2,
     "metadata": {},
     "output_type": "execute_result"
    }
   ],
   "source": [
    "country_df=file_df.replace({'LOCATION': {'AUS':'Australia', 'AUT': 'Austria', 'BEL': 'Belgium', \n",
    "                             'CAN': 'Canada', 'CZE': 'Czech Republic', 'DNK': 'Denmark',\n",
    "                             'FIN': 'Finland', 'FRA': 'France',  'DEU': 'Germany',                           \n",
    "                             'GRC': 'Greece', 'HUN': 'Hungary',  'ISL': 'Iceland',\n",
    "                             'IRL': 'Ireland', 'ITA': 'Italy', 'JPN': 'Japan',\n",
    "                             'KOR': 'Korea','LUX': 'Luxembourg', 'MEX': 'Mexico', \n",
    "                             'NLD': 'Netherlands',  'NZL': 'New Zealand', 'NOR': 'Norway',\n",
    "                             'POL': 'Poland','PRT': 'Portugal','SVK': 'Slovak Republic',\n",
    "                             'SVN': 'Slovenia','ESP': 'Spain','SWE': 'Sweden', 'GBR': 'United Kingdom',\n",
    "                             'TUR': 'Turkey',  'USA': 'United States','CHE': 'Sitzerland',\n",
    "                             'CHL': 'Chile', 'EST': 'Estonia','ISR': 'Israel',\n",
    "                             'LVA': 'Latvia', 'LTU': 'Lithuania'}\n",
    "                            })\n",
    "\n",
    "country_df.head()"
   ]
  },
  {
   "cell_type": "code",
   "execution_count": 3,
   "metadata": {},
   "outputs": [
    {
     "name": "stderr",
     "output_type": "stream",
     "text": [
      "C:\\Users\\Elizabeth Conway\\anaconda3\\lib\\site-packages\\pandas\\core\\frame.py:4296: SettingWithCopyWarning: \n",
      "A value is trying to be set on a copy of a slice from a DataFrame\n",
      "\n",
      "See the caveats in the documentation: https://pandas.pydata.org/pandas-docs/stable/user_guide/indexing.html#returning-a-view-versus-a-copy\n",
      "  return super().rename(\n"
     ]
    },
    {
     "data": {
      "text/html": [
       "<div>\n",
       "<style scoped>\n",
       "    .dataframe tbody tr th:only-of-type {\n",
       "        vertical-align: middle;\n",
       "    }\n",
       "\n",
       "    .dataframe tbody tr th {\n",
       "        vertical-align: top;\n",
       "    }\n",
       "\n",
       "    .dataframe thead th {\n",
       "        text-align: right;\n",
       "    }\n",
       "</style>\n",
       "<table border=\"1\" class=\"dataframe\">\n",
       "  <thead>\n",
       "    <tr style=\"text-align: right;\">\n",
       "      <th></th>\n",
       "      <th>Country</th>\n",
       "      <th>GDP</th>\n",
       "    </tr>\n",
       "  </thead>\n",
       "  <tbody>\n",
       "    <tr>\n",
       "      <th>0</th>\n",
       "      <td>Australia</td>\n",
       "      <td>67.505</td>\n",
       "    </tr>\n",
       "    <tr>\n",
       "      <th>1</th>\n",
       "      <td>Australia</td>\n",
       "      <td>67.386</td>\n",
       "    </tr>\n",
       "    <tr>\n",
       "      <th>2</th>\n",
       "      <td>Australia</td>\n",
       "      <td>67.226</td>\n",
       "    </tr>\n",
       "    <tr>\n",
       "      <th>3</th>\n",
       "      <td>Australia</td>\n",
       "      <td>66.930</td>\n",
       "    </tr>\n",
       "    <tr>\n",
       "      <th>4</th>\n",
       "      <td>Australia</td>\n",
       "      <td>66.671</td>\n",
       "    </tr>\n",
       "  </tbody>\n",
       "</table>\n",
       "</div>"
      ],
      "text/plain": [
       "     Country     GDP\n",
       "0  Australia  67.505\n",
       "1  Australia  67.386\n",
       "2  Australia  67.226\n",
       "3  Australia  66.930\n",
       "4  Australia  66.671"
      ]
     },
     "execution_count": 3,
     "metadata": {},
     "output_type": "execute_result"
    }
   ],
   "source": [
    "working_df=country_df[['LOCATION','Value']]\n",
    "#working_df.head()\n",
    "working_df.rename(columns={'LOCATION': 'Country', 'Value': 'GDP'}, inplace=True)\n",
    "working_df.head()"
   ]
  },
  {
   "cell_type": "code",
   "execution_count": 4,
   "metadata": {},
   "outputs": [
    {
     "data": {
      "text/plain": [
       "array(['Australia', 'Austria', 'Belgium', 'Canada', 'Czech Republic',\n",
       "       'Denmark', 'Finland', 'France', 'Germany', 'Greece', 'Hungary',\n",
       "       'Iceland', 'Ireland', 'Italy', 'Japan', 'Korea', 'Luxembourg',\n",
       "       'Mexico', 'Netherlands', 'New Zealand', 'Norway', 'Poland',\n",
       "       'Portugal', 'Slovak Republic', 'Spain', 'Sweden', 'Sitzerland',\n",
       "       'Turkey', 'United Kingdom', 'United States', 'BRA', 'Chile', 'COL',\n",
       "       'Estonia', 'Israel', 'RUS', 'Slovenia', 'OECD', 'EU28', 'Latvia',\n",
       "       'ARG', 'BGR', 'CHN', 'CRI', 'HRV', 'CYP', 'IND', 'IDN',\n",
       "       'Lithuania', 'MLT', 'ROU', 'SAU', 'SGP', 'ZAF', 'WLD', 'G20'],\n",
       "      dtype=object)"
      ]
     },
     "execution_count": 4,
     "metadata": {},
     "output_type": "execute_result"
    }
   ],
   "source": [
    "working_df['Country'].unique()"
   ]
  },
  {
   "cell_type": "code",
   "execution_count": 5,
   "metadata": {},
   "outputs": [
    {
     "data": {
      "text/html": [
       "<div>\n",
       "<style scoped>\n",
       "    .dataframe tbody tr th:only-of-type {\n",
       "        vertical-align: middle;\n",
       "    }\n",
       "\n",
       "    .dataframe tbody tr th {\n",
       "        vertical-align: top;\n",
       "    }\n",
       "\n",
       "    .dataframe thead th {\n",
       "        text-align: right;\n",
       "    }\n",
       "</style>\n",
       "<table border=\"1\" class=\"dataframe\">\n",
       "  <thead>\n",
       "    <tr style=\"text-align: right;\">\n",
       "      <th></th>\n",
       "      <th>GDP</th>\n",
       "    </tr>\n",
       "    <tr>\n",
       "      <th>Country</th>\n",
       "      <th></th>\n",
       "    </tr>\n",
       "  </thead>\n",
       "  <tbody>\n",
       "    <tr>\n",
       "      <th>ARG</th>\n",
       "      <td>64.0044</td>\n",
       "    </tr>\n",
       "    <tr>\n",
       "      <th>Australia</th>\n",
       "      <td>66.5498</td>\n",
       "    </tr>\n",
       "    <tr>\n",
       "      <th>Austria</th>\n",
       "      <td>67.3097</td>\n",
       "    </tr>\n",
       "    <tr>\n",
       "      <th>BGR</th>\n",
       "      <td>66.6991</td>\n",
       "    </tr>\n",
       "    <tr>\n",
       "      <th>BRA</th>\n",
       "      <td>68.8306</td>\n",
       "    </tr>\n",
       "  </tbody>\n",
       "</table>\n",
       "</div>"
      ],
      "text/plain": [
       "               GDP\n",
       "Country           \n",
       "ARG        64.0044\n",
       "Australia  66.5498\n",
       "Austria    67.3097\n",
       "BGR        66.6991\n",
       "BRA        68.8306"
      ]
     },
     "execution_count": 5,
     "metadata": {},
     "output_type": "execute_result"
    }
   ],
   "source": [
    "#working_df.\n",
    "\n",
    "group_df=(working_df.groupby(['Country'])).mean()\n",
    "group_df.head()"
   ]
  },
  {
   "cell_type": "code",
   "execution_count": 6,
   "metadata": {},
   "outputs": [
    {
     "data": {
      "text/plain": [
       "<AxesSubplot:xlabel='Country'>"
      ]
     },
     "execution_count": 6,
     "metadata": {},
     "output_type": "execute_result"
    },
    {
     "data": {
      "image/png": "[encoded data removed]",
      "text/plain": [
       "<Figure size 720x360 with 1 Axes>"
      ]
     },
     "metadata": {
      "needs_background": "light"
     },
     "output_type": "display_data"
    }
   ],
   "source": [
    "group_df.plot(kind='bar',figsize=(10,5))"
   ]
  },
  {
   "cell_type": "code",
   "execution_count": 7,
   "metadata": {},
   "outputs": [],
   "source": [
    "west = ['United Kingdom', 'Spain', 'Austria', 'France', 'Germany', 'Ireland', 'Switzerland', 'Italy', 'Luxembourg', 'Greece', 'Israel'\n",
    "                 'Netherlands', 'Belgium', 'Australia', 'New Zealand', 'Portugal', 'Turkey', 'Canada']\n",
    "east =  ['Estonia', 'Czech Republic', 'Latvia', 'Lithuania', 'Hungary', 'Slovak Republic', 'Slovenia', 'Poland'] \n",
    "scandinavian = ['Norway', 'Finland' ,'Iceland', 'Sweden', 'Denmark']\n",
    "us = ['United States']\n",
    "asia = ['Korea', 'Japan']\n",
    "latin = ['Mexico', 'Chile']"
   ]
  },
  {
   "cell_type": "code",
   "execution_count": 8,
   "metadata": {},
   "outputs": [],
   "source": [
    "west_df = pd.DataFrame({\"Country\": west})\n",
    "east_df = pd.DataFrame({\"Country\": east})\n",
    "scand_df = pd.DataFrame({\"Country\": scandinavian})\n",
    "us_df = pd.DataFrame({\"Country\": us})\n",
    "asia_df = pd.DataFrame({\"Country\": asia})\n",
    "latin_df = pd.DataFrame({\"Country\": latin})"
   ]
  },
  {
   "cell_type": "code",
   "execution_count": 12,
   "metadata": {},
   "outputs": [],
   "source": [
    "west_filter = pd.merge(group_df, west_df, on=[\"Country\"])\n",
    "east_filter = pd.merge(group_df, east_df, on=[\"Country\"])\n",
    "scand_filter = pd.merge(group_df, scand_df, on=[\"Country\"])\n",
    "us_filter = pd.merge(group_df, us_df, on=[\"Country\"])\n",
    "asia_filter = pd.merge(group_df, asia_df, on=[\"Country\"])\n",
    "latin_filter = pd.merge(group_df, latin_df, on=[\"Country\"])\n",
    "\n",
    "region_df = {\n",
    "    \"west\": {\"df\": west_filter},\n",
    "    \"east\": {\"df\": east_filter},\n",
    "    \"scand\": {\"df\":scand_filter},\n",
    "    \"us\": {\"df\":us_filter},\n",
    "    \"asia\": {\"df\":asia_filter},\n",
    "    \"latin\": {\"df\":latin_filter}\n",
    "}"
   ]
  },
  {
   "cell_type": "code",
   "execution_count": 10,
   "metadata": {},
   "outputs": [
    {
     "ename": "AttributeError",
     "evalue": "'dict' object has no attribute 'plot'",
     "output_type": "error",
     "traceback": [
      "\u001b[1;31m---------------------------------------------------------------------------\u001b[0m",
      "\u001b[1;31mAttributeError\u001b[0m                            Traceback (most recent call last)",
      "\u001b[1;32m<ipython-input-10-068d955ec485>\u001b[0m in \u001b[0;36m<module>\u001b[1;34m\u001b[0m\n\u001b[1;32m----> 1\u001b[1;33m \u001b[0mregion_df\u001b[0m\u001b[1;33m.\u001b[0m\u001b[0mplot\u001b[0m\u001b[1;33m(\u001b[0m\u001b[0mkind\u001b[0m\u001b[1;33m=\u001b[0m\u001b[1;34m'bar'\u001b[0m\u001b[1;33m,\u001b[0m\u001b[0mfigsize\u001b[0m\u001b[1;33m=\u001b[0m\u001b[1;33m(\u001b[0m\u001b[1;36m10\u001b[0m\u001b[1;33m,\u001b[0m\u001b[1;36m5\u001b[0m\u001b[1;33m)\u001b[0m\u001b[1;33m)\u001b[0m\u001b[1;33m\u001b[0m\u001b[1;33m\u001b[0m\u001b[0m\n\u001b[0m",
      "\u001b[1;31mAttributeError\u001b[0m: 'dict' object has no attribute 'plot'"
     ]
    }
   ],
   "source": [
    "#region_df.plot(kind='bar',figsize=(10,5))"
   ]
  },
  {
   "cell_type": "code",
   "execution_count": 13,
   "metadata": {},
   "outputs": [
    {
     "ename": "NameError",
     "evalue": "name 'df' is not defined",
     "output_type": "error",
     "traceback": [
      "\u001b[1;31m---------------------------------------------------------------------------\u001b[0m",
      "\u001b[1;31mNameError\u001b[0m                                 Traceback (most recent call last)",
      "\u001b[1;32m<ipython-input-13-7c71ff90dcf4>\u001b[0m in \u001b[0;36m<module>\u001b[1;34m\u001b[0m\n\u001b[0;32m      1\u001b[0m \u001b[0mfig\u001b[0m\u001b[1;33m,\u001b[0m \u001b[0max\u001b[0m \u001b[1;33m=\u001b[0m \u001b[0mplt\u001b[0m\u001b[1;33m.\u001b[0m\u001b[0msubplots\u001b[0m\u001b[1;33m(\u001b[0m\u001b[1;36m3\u001b[0m\u001b[1;33m,\u001b[0m \u001b[1;36m2\u001b[0m\u001b[1;33m,\u001b[0m \u001b[0mfigsize\u001b[0m\u001b[1;33m=\u001b[0m\u001b[1;33m(\u001b[0m\u001b[1;36m20\u001b[0m\u001b[1;33m,\u001b[0m \u001b[1;36m20\u001b[0m\u001b[1;33m)\u001b[0m\u001b[1;33m)\u001b[0m\u001b[1;33m\u001b[0m\u001b[1;33m\u001b[0m\u001b[0m\n\u001b[0;32m      2\u001b[0m \u001b[1;33m\u001b[0m\u001b[0m\n\u001b[1;32m----> 3\u001b[1;33m \u001b[1;32mfor\u001b[0m \u001b[0mregion\u001b[0m \u001b[1;32min\u001b[0m \u001b[0mdf\u001b[0m\u001b[1;33m:\u001b[0m\u001b[1;33m\u001b[0m\u001b[1;33m\u001b[0m\u001b[0m\n\u001b[0m\u001b[0;32m      4\u001b[0m     \u001b[0mx_position\u001b[0m\u001b[1;33m=\u001b[0m\u001b[0mdf\u001b[0m\u001b[1;33m[\u001b[0m\u001b[0mregion\u001b[0m\u001b[1;33m]\u001b[0m\u001b[1;33m[\u001b[0m\u001b[1;34m\"x\"\u001b[0m\u001b[1;33m]\u001b[0m\u001b[1;33m\u001b[0m\u001b[1;33m\u001b[0m\u001b[0m\n\u001b[0;32m      5\u001b[0m     \u001b[0my_position\u001b[0m\u001b[1;33m=\u001b[0m\u001b[0mdf\u001b[0m\u001b[1;33m[\u001b[0m\u001b[0mregion\u001b[0m\u001b[1;33m]\u001b[0m\u001b[1;33m[\u001b[0m\u001b[1;34m\"y\"\u001b[0m\u001b[1;33m]\u001b[0m\u001b[1;33m\u001b[0m\u001b[1;33m\u001b[0m\u001b[0m\n",
      "\u001b[1;31mNameError\u001b[0m: name 'df' is not defined"
     ]
    },
    {
     "data": {
      "image/png": "[encoded data removed]",
      "text/plain": [
       "<Figure size 1440x1440 with 6 Axes>"
      ]
     },
     "metadata": {
      "needs_background": "light"
     },
     "output_type": "display_data"
    }
   ],
   "source": [
    "fig, ax = plt.subplots(3, 2, figsize=(20, 20))\n",
    "\n",
    "for region in df:\n",
    "    x_position=df[region][\"x\"]\n",
    "    y_position=df[region][\"y\"]\n",
    "    region_df.plot.bar(x=\"Country\", y=\"GDP\", ax=ax[x_position][y_position], grid=True)\n",
    "    ax[x_position][y_position].set_title(region)\n",
    "    ax[x_position][y_position].set_ylim(50, 75)\n",
    "    #ax[x_position][y_position].set_xlim(0, 100)\n",
    "    \n",
    "    x = df[region][\"df\"][\"Country\"]\n",
    "    y = df[region][\"df\"][\"GDP\"]\n",
    "    #(slope, intercept, rvalue, pvalue, stderr) = st.linregress(x, y)\n",
    "    #regress_values = x * slope + intercept\n",
    "    #line_eq = f\"y = {round(slope, 2)}x + {round(intercept, 2)}\"\n",
    "    #ax[x_position][y_position].plot(x, regress_values, \"r-\")\n",
    "    \n",
    "    #ax[x_position][y_position].annotate(region, (70,0.5), fontsize=16, color=\"darkblue\")\n",
    "    #ax[x_position][y_position].annotate(line_eq, (70,0.45), fontsize=16, color=\"darkblue\")\n",
    "    #ax[x_position][y_position].annotate(f\"rvalue: {round(rvalue,2)}\", (70,0.4), fontsize=16, color=\"darkblue\")"
   ]
  },
  {
   "cell_type": "code",
   "execution_count": null,
   "metadata": {},
   "outputs": [],
   "source": []
  }
 ],
 "metadata": {
  "kernelspec": {
   "display_name": "Python 3",
   "language": "python",
   "name": "python3"
  },
  "language_info": {
   "codemirror_mode": {
    "name": "ipython",
    "version": 3
   },
   "file_extension": ".py",
   "mimetype": "text/x-python",
   "name": "python",
   "nbconvert_exporter": "python",
   "pygments_lexer": "ipython3",
   "version": "3.8.5"
  }
 },
 "nbformat": 4,
 "nbformat_minor": 4
}
