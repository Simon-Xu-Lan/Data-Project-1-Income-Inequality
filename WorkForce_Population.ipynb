{
 "cells": [
  {
   "cell_type": "code",
   "execution_count": 2,
   "metadata": {},
   "outputs": [
    {
     "data": {
      "text/html": [
       "<div>\n",
       "<style scoped>\n",
       "    .dataframe tbody tr th:only-of-type {\n",
       "        vertical-align: middle;\n",
       "    }\n",
       "\n",
       "    .dataframe tbody tr th {\n",
       "        vertical-align: top;\n",
       "    }\n",
       "\n",
       "    .dataframe thead th {\n",
       "        text-align: right;\n",
       "    }\n",
       "</style>\n",
       "<table border=\"1\" class=\"dataframe\">\n",
       "  <thead>\n",
       "    <tr style=\"text-align: right;\">\n",
       "      <th></th>\n",
       "      <th>LOCATION</th>\n",
       "      <th>INDICATOR</th>\n",
       "      <th>SUBJECT</th>\n",
       "      <th>MEASURE</th>\n",
       "      <th>FREQUENCY</th>\n",
       "      <th>TIME</th>\n",
       "      <th>Value</th>\n",
       "      <th>Flag Codes</th>\n",
       "    </tr>\n",
       "  </thead>\n",
       "  <tbody>\n",
       "    <tr>\n",
       "      <th>0</th>\n",
       "      <td>AUS</td>\n",
       "      <td>WKGPOP</td>\n",
       "      <td>TOT</td>\n",
       "      <td>PC_POP</td>\n",
       "      <td>A</td>\n",
       "      <td>2009</td>\n",
       "      <td>67.505</td>\n",
       "      <td>NaN</td>\n",
       "    </tr>\n",
       "    <tr>\n",
       "      <th>1</th>\n",
       "      <td>AUS</td>\n",
       "      <td>WKGPOP</td>\n",
       "      <td>TOT</td>\n",
       "      <td>PC_POP</td>\n",
       "      <td>A</td>\n",
       "      <td>2010</td>\n",
       "      <td>67.386</td>\n",
       "      <td>NaN</td>\n",
       "    </tr>\n",
       "    <tr>\n",
       "      <th>2</th>\n",
       "      <td>AUS</td>\n",
       "      <td>WKGPOP</td>\n",
       "      <td>TOT</td>\n",
       "      <td>PC_POP</td>\n",
       "      <td>A</td>\n",
       "      <td>2011</td>\n",
       "      <td>67.226</td>\n",
       "      <td>NaN</td>\n",
       "    </tr>\n",
       "    <tr>\n",
       "      <th>3</th>\n",
       "      <td>AUS</td>\n",
       "      <td>WKGPOP</td>\n",
       "      <td>TOT</td>\n",
       "      <td>PC_POP</td>\n",
       "      <td>A</td>\n",
       "      <td>2012</td>\n",
       "      <td>66.930</td>\n",
       "      <td>NaN</td>\n",
       "    </tr>\n",
       "    <tr>\n",
       "      <th>4</th>\n",
       "      <td>AUS</td>\n",
       "      <td>WKGPOP</td>\n",
       "      <td>TOT</td>\n",
       "      <td>PC_POP</td>\n",
       "      <td>A</td>\n",
       "      <td>2013</td>\n",
       "      <td>66.671</td>\n",
       "      <td>NaN</td>\n",
       "    </tr>\n",
       "  </tbody>\n",
       "</table>\n",
       "</div>"
      ],
      "text/plain": [
       "  LOCATION INDICATOR SUBJECT MEASURE FREQUENCY  TIME   Value  Flag Codes\n",
       "0      AUS    WKGPOP     TOT  PC_POP         A  2009  67.505         NaN\n",
       "1      AUS    WKGPOP     TOT  PC_POP         A  2010  67.386         NaN\n",
       "2      AUS    WKGPOP     TOT  PC_POP         A  2011  67.226         NaN\n",
       "3      AUS    WKGPOP     TOT  PC_POP         A  2012  66.930         NaN\n",
       "4      AUS    WKGPOP     TOT  PC_POP         A  2013  66.671         NaN"
      ]
     },
     "execution_count": 2,
     "metadata": {},
     "output_type": "execute_result"
    }
   ],
   "source": [
    "import pandas as pd\n",
    "import matplotlib.pyplot as plt\n",
    "import scipy.stats as st\n",
    "#from utility import check_columns\n",
    "\n",
    "\n",
    "# Import .csv\n",
    "file = 'Resources/Working_Population_Pct.csv'\n",
    "file_df = pd.read_csv(file, index_col=False)\n",
    "file_df.head()"
   ]
  },
  {
   "cell_type": "code",
   "execution_count": 3,
   "metadata": {},
   "outputs": [
    {
     "data": {
      "text/html": [
       "<div>\n",
       "<style scoped>\n",
       "    .dataframe tbody tr th:only-of-type {\n",
       "        vertical-align: middle;\n",
       "    }\n",
       "\n",
       "    .dataframe tbody tr th {\n",
       "        vertical-align: top;\n",
       "    }\n",
       "\n",
       "    .dataframe thead th {\n",
       "        text-align: right;\n",
       "    }\n",
       "</style>\n",
       "<table border=\"1\" class=\"dataframe\">\n",
       "  <thead>\n",
       "    <tr style=\"text-align: right;\">\n",
       "      <th></th>\n",
       "      <th>LOCATION</th>\n",
       "      <th>INDICATOR</th>\n",
       "      <th>SUBJECT</th>\n",
       "      <th>MEASURE</th>\n",
       "      <th>FREQUENCY</th>\n",
       "      <th>TIME</th>\n",
       "      <th>Value</th>\n",
       "      <th>Flag Codes</th>\n",
       "    </tr>\n",
       "  </thead>\n",
       "  <tbody>\n",
       "    <tr>\n",
       "      <th>0</th>\n",
       "      <td>Australia</td>\n",
       "      <td>WKGPOP</td>\n",
       "      <td>TOT</td>\n",
       "      <td>PC_POP</td>\n",
       "      <td>A</td>\n",
       "      <td>2009</td>\n",
       "      <td>67.505</td>\n",
       "      <td>NaN</td>\n",
       "    </tr>\n",
       "    <tr>\n",
       "      <th>1</th>\n",
       "      <td>Australia</td>\n",
       "      <td>WKGPOP</td>\n",
       "      <td>TOT</td>\n",
       "      <td>PC_POP</td>\n",
       "      <td>A</td>\n",
       "      <td>2010</td>\n",
       "      <td>67.386</td>\n",
       "      <td>NaN</td>\n",
       "    </tr>\n",
       "    <tr>\n",
       "      <th>2</th>\n",
       "      <td>Australia</td>\n",
       "      <td>WKGPOP</td>\n",
       "      <td>TOT</td>\n",
       "      <td>PC_POP</td>\n",
       "      <td>A</td>\n",
       "      <td>2011</td>\n",
       "      <td>67.226</td>\n",
       "      <td>NaN</td>\n",
       "    </tr>\n",
       "    <tr>\n",
       "      <th>3</th>\n",
       "      <td>Australia</td>\n",
       "      <td>WKGPOP</td>\n",
       "      <td>TOT</td>\n",
       "      <td>PC_POP</td>\n",
       "      <td>A</td>\n",
       "      <td>2012</td>\n",
       "      <td>66.930</td>\n",
       "      <td>NaN</td>\n",
       "    </tr>\n",
       "    <tr>\n",
       "      <th>4</th>\n",
       "      <td>Australia</td>\n",
       "      <td>WKGPOP</td>\n",
       "      <td>TOT</td>\n",
       "      <td>PC_POP</td>\n",
       "      <td>A</td>\n",
       "      <td>2013</td>\n",
       "      <td>66.671</td>\n",
       "      <td>NaN</td>\n",
       "    </tr>\n",
       "  </tbody>\n",
       "</table>\n",
       "</div>"
      ],
      "text/plain": [
       "    LOCATION INDICATOR SUBJECT MEASURE FREQUENCY  TIME   Value  Flag Codes\n",
       "0  Australia    WKGPOP     TOT  PC_POP         A  2009  67.505         NaN\n",
       "1  Australia    WKGPOP     TOT  PC_POP         A  2010  67.386         NaN\n",
       "2  Australia    WKGPOP     TOT  PC_POP         A  2011  67.226         NaN\n",
       "3  Australia    WKGPOP     TOT  PC_POP         A  2012  66.930         NaN\n",
       "4  Australia    WKGPOP     TOT  PC_POP         A  2013  66.671         NaN"
      ]
     },
     "execution_count": 3,
     "metadata": {},
     "output_type": "execute_result"
    }
   ],
   "source": [
    "country_df=file_df.replace({'LOCATION': {'AUS':'Australia', 'AUT': 'Austria', 'BEL': 'Belgium', \n",
    "                             'CAN': 'Canada', 'CZE': 'Czech Republic', 'DNK': 'Denmark',\n",
    "                             'FIN': 'Finland', 'FRA': 'France',  'DEU': 'Germany',                           \n",
    "                             'GRC': 'Greece', 'HUN': 'Hungary',  'ISL': 'Iceland',\n",
    "                             'IRL': 'Ireland', 'ITA': 'Italy', 'JPN': 'Japan',\n",
    "                             'KOR': 'Korea','LUX': 'Luxembourg', 'MEX': 'Mexico', \n",
    "                             'NLD': 'Netherlands',  'NZL': 'New Zealand', 'NOR': 'Norway',\n",
    "                             'POL': 'Poland','PRT': 'Portugal','SVK': 'Slovak Republic',\n",
    "                             'SVN': 'Slovenia','ESP': 'Spain','SWE': 'Sweden', 'GBR': 'United Kingdom',\n",
    "                             'TUR': 'Turkey',  'USA': 'United States','CHE': 'Sitzerland',\n",
    "                             'CHL': 'Chile', 'EST': 'Estonia','ISR': 'Israel',\n",
    "                             'LVA': 'Latvia', 'LTU': 'Lithuania'}\n",
    "                            })\n",
    "\n",
    "country_df.head()"
   ]
  },
  {
   "cell_type": "code",
   "execution_count": 4,
   "metadata": {},
   "outputs": [],
   "source": [
    "country_list=['Australia','Austria', 'Belgium', 'Canada', 'Czech Republic', 'Denmark',\n",
    "            'Finland', 'France', 'Germany', 'Greece', 'Hungary','Iceland',\n",
    "            'Ireland', 'Italy', 'Japan','Korea','Luxembourg','Mexico', \n",
    "            'Netherlands', 'New Zealand', 'Norway','Poland', 'Portugal','Slovak Republic',\n",
    "            'Slovenia', 'Spain','Sweden', 'United Kingdom',\n",
    "            'Turkey', 'United States','Sitzerland',\n",
    "            'Chile','Estonia', 'Israel','Latvia', 'Lithuania']\n",
    "            "
   ]
  },
  {
   "cell_type": "code",
   "execution_count": 5,
   "metadata": {},
   "outputs": [
    {
     "data": {
      "text/html": [
       "<div>\n",
       "<style scoped>\n",
       "    .dataframe tbody tr th:only-of-type {\n",
       "        vertical-align: middle;\n",
       "    }\n",
       "\n",
       "    .dataframe tbody tr th {\n",
       "        vertical-align: top;\n",
       "    }\n",
       "\n",
       "    .dataframe thead th {\n",
       "        text-align: right;\n",
       "    }\n",
       "</style>\n",
       "<table border=\"1\" class=\"dataframe\">\n",
       "  <thead>\n",
       "    <tr style=\"text-align: right;\">\n",
       "      <th></th>\n",
       "      <th>LOCATION</th>\n",
       "      <th>INDICATOR</th>\n",
       "      <th>SUBJECT</th>\n",
       "      <th>MEASURE</th>\n",
       "      <th>FREQUENCY</th>\n",
       "      <th>TIME</th>\n",
       "      <th>Value</th>\n",
       "      <th>Flag Codes</th>\n",
       "    </tr>\n",
       "  </thead>\n",
       "  <tbody>\n",
       "    <tr>\n",
       "      <th>0</th>\n",
       "      <td>Australia</td>\n",
       "      <td>WKGPOP</td>\n",
       "      <td>TOT</td>\n",
       "      <td>PC_POP</td>\n",
       "      <td>A</td>\n",
       "      <td>2009</td>\n",
       "      <td>67.505</td>\n",
       "      <td>NaN</td>\n",
       "    </tr>\n",
       "    <tr>\n",
       "      <th>1</th>\n",
       "      <td>Australia</td>\n",
       "      <td>WKGPOP</td>\n",
       "      <td>TOT</td>\n",
       "      <td>PC_POP</td>\n",
       "      <td>A</td>\n",
       "      <td>2010</td>\n",
       "      <td>67.386</td>\n",
       "      <td>NaN</td>\n",
       "    </tr>\n",
       "    <tr>\n",
       "      <th>2</th>\n",
       "      <td>Australia</td>\n",
       "      <td>WKGPOP</td>\n",
       "      <td>TOT</td>\n",
       "      <td>PC_POP</td>\n",
       "      <td>A</td>\n",
       "      <td>2011</td>\n",
       "      <td>67.226</td>\n",
       "      <td>NaN</td>\n",
       "    </tr>\n",
       "    <tr>\n",
       "      <th>3</th>\n",
       "      <td>Australia</td>\n",
       "      <td>WKGPOP</td>\n",
       "      <td>TOT</td>\n",
       "      <td>PC_POP</td>\n",
       "      <td>A</td>\n",
       "      <td>2012</td>\n",
       "      <td>66.930</td>\n",
       "      <td>NaN</td>\n",
       "    </tr>\n",
       "    <tr>\n",
       "      <th>4</th>\n",
       "      <td>Australia</td>\n",
       "      <td>WKGPOP</td>\n",
       "      <td>TOT</td>\n",
       "      <td>PC_POP</td>\n",
       "      <td>A</td>\n",
       "      <td>2013</td>\n",
       "      <td>66.671</td>\n",
       "      <td>NaN</td>\n",
       "    </tr>\n",
       "  </tbody>\n",
       "</table>\n",
       "</div>"
      ],
      "text/plain": [
       "    LOCATION INDICATOR SUBJECT MEASURE FREQUENCY  TIME   Value  Flag Codes\n",
       "0  Australia    WKGPOP     TOT  PC_POP         A  2009  67.505         NaN\n",
       "1  Australia    WKGPOP     TOT  PC_POP         A  2010  67.386         NaN\n",
       "2  Australia    WKGPOP     TOT  PC_POP         A  2011  67.226         NaN\n",
       "3  Australia    WKGPOP     TOT  PC_POP         A  2012  66.930         NaN\n",
       "4  Australia    WKGPOP     TOT  PC_POP         A  2013  66.671         NaN"
      ]
     },
     "execution_count": 5,
     "metadata": {},
     "output_type": "execute_result"
    }
   ],
   "source": [
    "clean_df=country_df[country_df['LOCATION'].isin(country_list)]\n",
    "clean_df.head()"
   ]
  },
  {
   "cell_type": "code",
   "execution_count": 6,
   "metadata": {},
   "outputs": [
    {
     "data": {
      "text/plain": [
       "array(['Australia', 'Austria', 'Belgium', 'Canada', 'Czech Republic',\n",
       "       'Denmark', 'Finland', 'France', 'Germany', 'Greece', 'Hungary',\n",
       "       'Iceland', 'Ireland', 'Italy', 'Japan', 'Korea', 'Luxembourg',\n",
       "       'Mexico', 'Netherlands', 'New Zealand', 'Norway', 'Poland',\n",
       "       'Portugal', 'Slovak Republic', 'Spain', 'Sweden', 'Sitzerland',\n",
       "       'Turkey', 'United Kingdom', 'United States', 'Chile', 'Estonia',\n",
       "       'Israel', 'Slovenia', 'Latvia', 'Lithuania'], dtype=object)"
      ]
     },
     "execution_count": 6,
     "metadata": {},
     "output_type": "execute_result"
    }
   ],
   "source": [
    "clean_df['LOCATION'].unique()"
   ]
  },
  {
   "cell_type": "code",
   "execution_count": 7,
   "metadata": {},
   "outputs": [
    {
     "name": "stderr",
     "output_type": "stream",
     "text": [
      "C:\\Users\\Elizabeth Conway\\anaconda3\\lib\\site-packages\\pandas\\core\\frame.py:4296: SettingWithCopyWarning: \n",
      "A value is trying to be set on a copy of a slice from a DataFrame\n",
      "\n",
      "See the caveats in the documentation: https://pandas.pydata.org/pandas-docs/stable/user_guide/indexing.html#returning-a-view-versus-a-copy\n",
      "  return super().rename(\n"
     ]
    },
    {
     "data": {
      "text/html": [
       "<div>\n",
       "<style scoped>\n",
       "    .dataframe tbody tr th:only-of-type {\n",
       "        vertical-align: middle;\n",
       "    }\n",
       "\n",
       "    .dataframe tbody tr th {\n",
       "        vertical-align: top;\n",
       "    }\n",
       "\n",
       "    .dataframe thead th {\n",
       "        text-align: right;\n",
       "    }\n",
       "</style>\n",
       "<table border=\"1\" class=\"dataframe\">\n",
       "  <thead>\n",
       "    <tr style=\"text-align: right;\">\n",
       "      <th></th>\n",
       "      <th>Country</th>\n",
       "      <th>WF</th>\n",
       "    </tr>\n",
       "  </thead>\n",
       "  <tbody>\n",
       "    <tr>\n",
       "      <th>0</th>\n",
       "      <td>Australia</td>\n",
       "      <td>67.505</td>\n",
       "    </tr>\n",
       "    <tr>\n",
       "      <th>1</th>\n",
       "      <td>Australia</td>\n",
       "      <td>67.386</td>\n",
       "    </tr>\n",
       "    <tr>\n",
       "      <th>2</th>\n",
       "      <td>Australia</td>\n",
       "      <td>67.226</td>\n",
       "    </tr>\n",
       "    <tr>\n",
       "      <th>3</th>\n",
       "      <td>Australia</td>\n",
       "      <td>66.930</td>\n",
       "    </tr>\n",
       "    <tr>\n",
       "      <th>4</th>\n",
       "      <td>Australia</td>\n",
       "      <td>66.671</td>\n",
       "    </tr>\n",
       "  </tbody>\n",
       "</table>\n",
       "</div>"
      ],
      "text/plain": [
       "     Country      WF\n",
       "0  Australia  67.505\n",
       "1  Australia  67.386\n",
       "2  Australia  67.226\n",
       "3  Australia  66.930\n",
       "4  Australia  66.671"
      ]
     },
     "execution_count": 7,
     "metadata": {},
     "output_type": "execute_result"
    }
   ],
   "source": [
    "working_df=clean_df[['LOCATION','Value']]\n",
    "#working_df.head()\n",
    "working_df.rename(columns={'LOCATION': 'Country', 'Value': 'WF'}, inplace=True)\n",
    "working_df.head()"
   ]
  },
  {
   "cell_type": "code",
   "execution_count": 8,
   "metadata": {},
   "outputs": [
    {
     "data": {
      "text/plain": [
       "array(['Australia', 'Austria', 'Belgium', 'Canada', 'Czech Republic',\n",
       "       'Denmark', 'Finland', 'France', 'Germany', 'Greece', 'Hungary',\n",
       "       'Iceland', 'Ireland', 'Italy', 'Japan', 'Korea', 'Luxembourg',\n",
       "       'Mexico', 'Netherlands', 'New Zealand', 'Norway', 'Poland',\n",
       "       'Portugal', 'Slovak Republic', 'Spain', 'Sweden', 'Sitzerland',\n",
       "       'Turkey', 'United Kingdom', 'United States', 'Chile', 'Estonia',\n",
       "       'Israel', 'Slovenia', 'Latvia', 'Lithuania'], dtype=object)"
      ]
     },
     "execution_count": 8,
     "metadata": {},
     "output_type": "execute_result"
    }
   ],
   "source": [
    "working_df['Country'].unique()"
   ]
  },
  {
   "cell_type": "code",
   "execution_count": 9,
   "metadata": {},
   "outputs": [
    {
     "data": {
      "text/html": [
       "<div>\n",
       "<style scoped>\n",
       "    .dataframe tbody tr th:only-of-type {\n",
       "        vertical-align: middle;\n",
       "    }\n",
       "\n",
       "    .dataframe tbody tr th {\n",
       "        vertical-align: top;\n",
       "    }\n",
       "\n",
       "    .dataframe thead th {\n",
       "        text-align: right;\n",
       "    }\n",
       "</style>\n",
       "<table border=\"1\" class=\"dataframe\">\n",
       "  <thead>\n",
       "    <tr style=\"text-align: right;\">\n",
       "      <th></th>\n",
       "      <th>WF</th>\n",
       "    </tr>\n",
       "    <tr>\n",
       "      <th>Country</th>\n",
       "      <th></th>\n",
       "    </tr>\n",
       "  </thead>\n",
       "  <tbody>\n",
       "    <tr>\n",
       "      <th>Australia</th>\n",
       "      <td>66.5498</td>\n",
       "    </tr>\n",
       "    <tr>\n",
       "      <th>Austria</th>\n",
       "      <td>67.3097</td>\n",
       "    </tr>\n",
       "    <tr>\n",
       "      <th>Belgium</th>\n",
       "      <td>65.1445</td>\n",
       "    </tr>\n",
       "    <tr>\n",
       "      <th>Canada</th>\n",
       "      <td>68.2227</td>\n",
       "    </tr>\n",
       "    <tr>\n",
       "      <th>Chile</th>\n",
       "      <td>68.7144</td>\n",
       "    </tr>\n",
       "  </tbody>\n",
       "</table>\n",
       "</div>"
      ],
      "text/plain": [
       "                WF\n",
       "Country           \n",
       "Australia  66.5498\n",
       "Austria    67.3097\n",
       "Belgium    65.1445\n",
       "Canada     68.2227\n",
       "Chile      68.7144"
      ]
     },
     "execution_count": 9,
     "metadata": {},
     "output_type": "execute_result"
    }
   ],
   "source": [
    "#working_df.\n",
    "\n",
    "group_df=(working_df.groupby(['Country'])).mean()\n",
    "group_df.head()"
   ]
  },
  {
   "cell_type": "code",
   "execution_count": 10,
   "metadata": {},
   "outputs": [
    {
     "data": {
      "text/plain": [
       "<AxesSubplot:xlabel='Country'>"
      ]
     },
     "execution_count": 10,
     "metadata": {},
     "output_type": "execute_result"
    },
    {
     "data": {
      "image/png": "[encoded data removed]",
      "text/plain": [
       "<Figure size 720x360 with 1 Axes>"
      ]
     },
     "metadata": {
      "needs_background": "light"
     },
     "output_type": "display_data"
    }
   ],
   "source": [
    "group_df.plot(kind='bar',figsize=(10,5))"
   ]
  },
  {
   "cell_type": "code",
   "execution_count": 11,
   "metadata": {},
   "outputs": [],
   "source": [
    "west = ['United Kingdom', 'Spain', 'Austria', 'France', 'Germany', 'Ireland', 'Switzerland', 'Italy', 'Luxembourg', 'Greece', 'Israel'\n",
    "                 'Netherlands', 'Belgium', 'Australia', 'New Zealand', 'Portugal', 'Turkey', 'Canada']\n",
    "east =  ['Estonia', 'Czech Republic', 'Latvia', 'Lithuania', 'Hungary', 'Slovak Republic', 'Slovenia', 'Poland'] \n",
    "scandinavian = ['Norway', 'Finland' ,'Iceland', 'Sweden', 'Denmark']\n",
    "us = ['United States']\n",
    "asia = ['Korea', 'Japan']\n",
    "latin = ['Mexico', 'Chile']"
   ]
  },
  {
   "cell_type": "code",
   "execution_count": 12,
   "metadata": {},
   "outputs": [],
   "source": [
    "west_df = pd.DataFrame({\"Country\": west})\n",
    "east_df = pd.DataFrame({\"Country\": east})\n",
    "scand_df = pd.DataFrame({\"Country\": scandinavian})\n",
    "us_df = pd.DataFrame({\"Country\": us})\n",
    "asia_df = pd.DataFrame({\"Country\": asia})\n",
    "latin_df = pd.DataFrame({\"Country\": latin})"
   ]
  },
  {
   "cell_type": "code",
   "execution_count": 17,
   "metadata": {},
   "outputs": [
    {
     "data": {
      "text/html": [
       "<div>\n",
       "<style scoped>\n",
       "    .dataframe tbody tr th:only-of-type {\n",
       "        vertical-align: middle;\n",
       "    }\n",
       "\n",
       "    .dataframe tbody tr th {\n",
       "        vertical-align: top;\n",
       "    }\n",
       "\n",
       "    .dataframe thead th {\n",
       "        text-align: right;\n",
       "    }\n",
       "</style>\n",
       "<table border=\"1\" class=\"dataframe\">\n",
       "  <thead>\n",
       "    <tr style=\"text-align: right;\">\n",
       "      <th></th>\n",
       "      <th>WF</th>\n",
       "    </tr>\n",
       "  </thead>\n",
       "  <tbody>\n",
       "    <tr>\n",
       "      <th>Western Europe</th>\n",
       "      <td>66.147593</td>\n",
       "    </tr>\n",
       "    <tr>\n",
       "      <th>Eastern Europe</th>\n",
       "      <td>67.823813</td>\n",
       "    </tr>\n",
       "    <tr>\n",
       "      <th>scandinava</th>\n",
       "      <td>65.020420</td>\n",
       "    </tr>\n",
       "    <tr>\n",
       "      <th>USA</th>\n",
       "      <td>66.405800</td>\n",
       "    </tr>\n",
       "    <tr>\n",
       "      <th>Asia</th>\n",
       "      <td>67.527550</td>\n",
       "    </tr>\n",
       "    <tr>\n",
       "      <th>Latin America</th>\n",
       "      <td>66.970600</td>\n",
       "    </tr>\n",
       "  </tbody>\n",
       "</table>\n",
       "</div>"
      ],
      "text/plain": [
       "                       WF\n",
       "Western Europe  66.147593\n",
       "Eastern Europe  67.823813\n",
       "scandinava      65.020420\n",
       "USA             66.405800\n",
       "Asia            67.527550\n",
       "Latin America   66.970600"
      ]
     },
     "execution_count": 17,
     "metadata": {},
     "output_type": "execute_result"
    }
   ],
   "source": [
    "west_filter = pd.merge(group_df, west_df, on=[\"Country\"])\n",
    "east_filter = pd.merge(group_df, east_df, on=[\"Country\"])\n",
    "scand_filter = pd.merge(group_df, scand_df, on=[\"Country\"])\n",
    "us_filter = pd.merge(group_df, us_df, on=[\"Country\"])\n",
    "asia_filter = pd.merge(group_df, asia_df, on=[\"Country\"])\n",
    "latin_filter = pd.merge(group_df, latin_df, on=[\"Country\"])\n",
    "\n",
    "region_df =pd.DataFrame({\n",
    "    \"west\": {\"df\": west_filter},\n",
    "    \"east\": {\"df\": east_filter},\n",
    "    \"scand\": {\"df\":scand_filter},\n",
    "    \"us\": {\"df\":us_filter},\n",
    "    \"asia\": {\"df\":asia_filter},\n",
    "    \"latin\": {\"df\":latin_filter}\n",
    "})\n",
    "\n",
    "#region_df.head()\n",
    "\n",
    "\n",
    "#chart_mean=[west_filter.mean(),east_filter.mean(),scand_filter.mean(),us_filter.mean(),asia_filter.mean(),latin_filter.mean()]\n",
    "fine= {'Western Europe': west_filter.mean(),\n",
    "    'Eastern Europe': east_filter.mean(),\n",
    "    'scandinava': scand_filter.mean(),\n",
    "    'USA': us_filter.mean(),\n",
    "    'Asia': asia_filter.mean(),\n",
    "    'Latin America': latin_filter.mean()}\n",
    "chart=pd.DataFrame(fine).transpose()\n",
    "chart\n"
   ]
  },
  {
   "cell_type": "code",
   "execution_count": 18,
   "metadata": {},
   "outputs": [
    {
     "data": {
      "text/plain": [
       "Text(0, 0.5, 'Region')"
      ]
     },
     "execution_count": 18,
     "metadata": {},
     "output_type": "execute_result"
    },
    {
     "data": {
      "image/png": "[encoded data removed]",
      "text/plain": [
       "<Figure size 720x360 with 1 Axes>"
      ]
     },
     "metadata": {
      "needs_background": "light"
     },
     "output_type": "display_data"
    }
   ],
   "source": [
    "chart.plot(kind='bar',figsize=(10,5))\n",
    "plt.title('WorkForce Population 18 - 65 yrs')\n",
    "plt.xlabel('Percent of Total Population')\n",
    "plt.ylabel('Region')"
   ]
  },
  {
   "cell_type": "code",
   "execution_count": null,
   "metadata": {},
   "outputs": [],
   "source": []
  },
  {
   "cell_type": "code",
   "execution_count": null,
   "metadata": {},
   "outputs": [],
   "source": []
  }
 ],
 "metadata": {
  "kernelspec": {
   "display_name": "Python 3",
   "language": "python",
   "name": "python3"
  },
  "language_info": {
   "codemirror_mode": {
    "name": "ipython",
    "version": 3
   },
   "file_extension": ".py",
   "mimetype": "text/x-python",
   "name": "python",
   "nbconvert_exporter": "python",
   "pygments_lexer": "ipython3",
   "version": "3.8.5"
  }
 },
 "nbformat": 4,
 "nbformat_minor": 4
}
